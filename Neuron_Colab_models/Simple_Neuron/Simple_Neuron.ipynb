{
  "cells": [
    {
      "cell_type": "code",
      "source": [
        "pip install neuron"
      ],
      "metadata": {
        "colab": {
          "base_uri": "https://localhost:8080/"
        },
        "id": "p4id9IxNaBys",
        "outputId": "5bd6ef49-414c-4db9-f8df-201ba21942fc"
      },
      "execution_count": null,
      "outputs": [
        {
          "output_type": "stream",
          "name": "stdout",
          "text": [
            "Collecting neuron\n",
            "  Downloading NEURON-8.0.0-cp37-cp37m-manylinux1_x86_64.whl (12.6 MB)\n",
            "\u001b[K     |████████████████████████████████| 12.6 MB 7.9 MB/s \n",
            "\u001b[?25hRequirement already satisfied: numpy>=1.9.3 in /usr/local/lib/python3.7/dist-packages (from neuron) (1.19.5)\n",
            "Installing collected packages: neuron\n",
            "Successfully installed neuron-8.0.0\n"
          ]
        }
      ]
    },
    {
      "cell_type": "code",
      "execution_count": null,
      "metadata": {
        "id": "5r9VbdMbZ_1U"
      },
      "outputs": [],
      "source": [
        "from neuron import h\n",
        "#more information can be found at: https://neuron.yale.edu/neuron/docs/scripting-neuron-basics"
      ]
    },
    {
      "cell_type": "markdown",
      "metadata": {
        "id": "bk41QHj4Z_1Y"
      },
      "source": [
        "### Create Soma and Set Soma Properties"
      ]
    },
    {
      "cell_type": "code",
      "execution_count": null,
      "metadata": {
        "id": "900j_03hZ_1Z"
      },
      "outputs": [],
      "source": [
        "soma = h.Section(name='soma')\n",
        "soma.diam = 18.8 #um\n",
        "soma.L = 18.8 #um\n",
        "soma.Ra = 123 # ohm-cm\n",
        "soma.cm = 1 #uF/cm2\n",
        "#The following command inserts the Hodgkin-Huxley Na and K channels, after which //the channel variables gnabar_hh, etc. are defined......and so can be accessed.\n",
        "\n",
        "soma.insert('hh')\n",
        "soma.gnabar_hh = 0.12 #S/cm2\n",
        "soma.gkbar_hh = 0.036 #S/cm2\n",
        "soma.gl_hh = 0.0003 # S/cm2\n",
        "soma.ena = 55 #mV\n",
        "soma.ek = -77 #mv\n",
        "soma.el_hh = -54.3\n",
        "\n",
        "#creating current clamp in the middle of the soma\n",
        "iclamp = h.IClamp(soma(0.5))\n",
        "iclamp.delay = 100 # ms\n",
        "iclamp.dur = 100 # ms\n",
        "iclamp.amp = 0.2 #nA"
      ]
    },
    {
      "cell_type": "markdown",
      "metadata": {
        "id": "6XiS7WyFZ_1a"
      },
      "source": [
        "### Create Current Clamp and Recording Variables"
      ]
    },
    {
      "cell_type": "code",
      "execution_count": null,
      "metadata": {
        "colab": {
          "base_uri": "https://localhost:8080/"
        },
        "id": "_Jqm39FQZ_1b",
        "outputId": "27a51992-87ae-47a8-cfbf-734061ff47de"
      },
      "outputs": [
        {
          "output_type": "execute_result",
          "data": {
            "text/plain": [
              "0.0"
            ]
          },
          "metadata": {},
          "execution_count": 5
        }
      ],
      "source": [
        "from neuron.units import ms, mV\n",
        "h.load_file('stdrun.hoc')\n",
        "#recording variables\n",
        "v = h.Vector().record(soma(0.5)._ref_v)             # Membrane potential vector\n",
        "t = h.Vector().record(h._ref_t) \n",
        "\n",
        "h.load_file('stdrun.hoc')\n",
        "h.finitialize(-65 * mV)## vrest\n",
        "h.continuerun(300 * ms)## simulation time"
      ]
    },
    {
      "cell_type": "markdown",
      "metadata": {
        "id": "JlnlL216Z_1c"
      },
      "source": [
        "## Plot the Results"
      ]
    },
    {
      "cell_type": "code",
      "execution_count": null,
      "metadata": {
        "colab": {
          "base_uri": "https://localhost:8080/",
          "height": 351
        },
        "id": "l29lI7KMZ_1c",
        "outputId": "9f7d0307-f802-4b03-af7d-c1bd6b4a4442"
      },
      "outputs": [
        {
          "output_type": "execute_result",
          "data": {
            "text/plain": [
              "Text(0, 0.5, 'v (mV)')"
            ]
          },
          "metadata": {},
          "execution_count": 6
        },
        {
          "output_type": "display_data",
          "data": {
            "image/png": "[encoded data removed]",
            "text/plain": [
              "<Figure size 720x360 with 1 Axes>"
            ]
          },
          "metadata": {
            "needs_background": "light"
          }
        }
      ],
      "source": [
        "import matplotlib.pyplot as plt\n",
        "\n",
        "plt.figure(figsize=(10,5))\n",
        "plt.plot(t, v)\n",
        "plt.xlabel('t (ms)')\n",
        "plt.ylabel('v (mV)')"
      ]
    },
    {
      "cell_type": "code",
      "execution_count": null,
      "metadata": {
        "id": "ptf1wcboZ_1d"
      },
      "outputs": [],
      "source": [
        ""
      ]
    }
  ],
  "metadata": {
    "kernelspec": {
      "display_name": "Python 3",
      "language": "python",
      "name": "python3"
    },
    "language_info": {
      "codemirror_mode": {
        "name": "ipython",
        "version": 3
      },
      "file_extension": ".py",
      "mimetype": "text/x-python",
      "name": "python",
      "nbconvert_exporter": "python",
      "pygments_lexer": "ipython3",
      "version": "3.8.3"
    },
    "colab": {
      "name": "Copy of Simple_Neuron.ipynb",
      "provenance": [],
      "collapsed_sections": []
    }
  },
  "nbformat": 4,
  "nbformat_minor": 0
}