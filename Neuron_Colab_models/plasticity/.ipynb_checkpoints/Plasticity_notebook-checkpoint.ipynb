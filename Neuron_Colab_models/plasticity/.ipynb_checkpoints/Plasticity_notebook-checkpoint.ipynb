{
 "cells": [
  {
   "cell_type": "code",
   "execution_count": null,
   "id": "c389dd01",
   "metadata": {},
   "outputs": [],
   "source": [
    "import os\n",
    "!git clone https://github.com/GregGlickert/NeuroScience-Tutorals.git\n",
    "%cd \n",
    "print(os.system('nrnivmodl')) # compile modfiles. Return 0 for success, 1 for failure."
   ]
  },
  {
   "cell_type": "code",
   "execution_count": 20,
   "id": "a12543f4",
   "metadata": {},
   "outputs": [
    {
     "name": "stdout",
     "output_type": "stream",
     "text": [
      "\n",
      "|-|       soma[0](0-1)\n",
      "\n"
     ]
    },
    {
     "data": {
      "application/vnd.jupyter.widget-view+json": {
       "model_id": "a016229f7ac840c997d7575e43097a0e",
       "version_major": 2,
       "version_minor": 0
      },
      "text/plain": [
       "VBox(children=(HBox(children=(Button(button_style='primary', description='Reset', icon='history', style=Button…"
      ]
     },
     "metadata": {},
     "output_type": "display_data"
    },
    {
     "data": {
      "application/vnd.jupyter.widget-view+json": {
       "model_id": "355b1d11f0c346b2a9960ef2c8b5e38f",
       "version_major": 2,
       "version_minor": 0
      },
      "text/plain": [
       "Output()"
      ]
     },
     "metadata": {},
     "output_type": "display_data"
    }
   ],
   "source": [
    "!pip install neuron\n",
    "import matplotlib.pyplot as plt\n",
    "from neuron import h\n",
    "import ipywidgets as widgets\n",
    "from ipywidgets import interactive_output,HBox,VBox,Label,Layout\n",
    "from IPython.display import display\n",
    "%matplotlib inline\n",
    "h.load_file('stdrun.hoc')\n",
    "\n",
    "h.dt = 0.1 # time step (resolution) of the simulation in ms\n",
    "h.tstop = 1700 # how long to run the simulation in ms\n",
    "h.v_init= -65 # initial membrane potential in mV\n",
    "\n",
    "soma = [h.Section(name='soma[%d]'% i) for i in range(1)]\n",
    "#print(soma[0].psection())\n",
    "for i in range(1):\n",
    "    soma[i].insert(\"hh\")\n",
    "    #soma[i].diam = 30 # micrometers\n",
    "    #soma[i].L = 30 # micrometers\n",
    "    #soma[i].cm = 1 # membrane capacitance uF/cm2\n",
    "    #soma[i].Ra = 25 # ohm-cm\n",
    "    \n",
    "h.topology()\n",
    "\n",
    "#pyr2pyr0 = h.pyr2pyr(soma[0](0.5))\n",
    "\n",
    "tone2pyr0 = h.pyr2pyr(soma[0](0.9))\n",
    "\n",
    "shock2pyr0 = h.pyr2pyr(soma[0](0.8))\n",
    "\n",
    "stim0 = h.IClamp(soma[0](0.5))\n",
    "stim0.delay = 100 #delay in ms\n",
    "stim0.dur = 500 #duration in ms\n",
    "stim0.amp = 0\n",
    "\n",
    "nstim_tone = h.NetStim(0.9)\n",
    "freq = 40\n",
    "nstim_tone.interval=(1000/freq)\n",
    "nstim_tone.number = 100\n",
    "nstim_tone.start = 100\n",
    "nstim_tone.noise = 0\n",
    "\n",
    "nstim_shock = h.NetStim(0.9)\n",
    "freq = 40\n",
    "nstim_shock.interval = 1000/freq\n",
    "nstim_shock.number = 100\n",
    "nstim_shock.start = 300\n",
    "nstim_noise = 0 \n",
    "\n",
    "nc_tone = h.NetCon(nstim_tone,tone2pyr0,0,0,1)\n",
    "nc_shock = h.NetCon(nstim_shock,shock2pyr0,0,0,1)\n",
    "\n",
    "t = h.Vector()\n",
    "Soma_v = h.Vector()\n",
    "g_ampa = h.Vector()\n",
    "capoolcon = h.Vector()\n",
    "W = h.Vector()\n",
    "\n",
    "t.record(h._ref_t)\n",
    "Soma_v.record(soma[0](0.5)._ref_v)\n",
    "g_ampa.record(tone2pyr0._ref_g_ampa)\n",
    "capoolcon.record(tone2pyr0._ref_capoolcon)\n",
    "W.record(tone2pyr0._ref_W)\n",
    "\n",
    "def plot_variables():\n",
    "    fig = plt.figure(figsize=(13,8))\n",
    "    ax11 = fig.add_subplot(221); ax12 = fig.add_subplot(222)\n",
    "    ax21 = fig.add_subplot(223); ax22 = fig.add_subplot(224)\n",
    "\n",
    "    ax11.plot(t, Soma_v)\n",
    "    ax11.legend(['Soma Vm'],loc=1)\n",
    "    ax11.set_ylabel('Voltage (mV)')\n",
    "    ax11.set_xlabel('time (ms)')\n",
    "\n",
    "    ax12.plot(t ,g_ampa)\n",
    "    ax12.legend(['g_ampa'],loc=1)\n",
    "    ax12.set_ylabel('current')\n",
    "    ax12.set_xlabel('time')\n",
    "\n",
    "    ax21.plot(t, capoolcon)\n",
    "    ax21.legend(['Capoolcon'],loc=1)\n",
    "    ax21.set_ylabel('concentration')\n",
    "    ax21.set_xlabel('time')\n",
    "\n",
    "    ax22.plot(t, W)\n",
    "    ax22.legend(['Weight'])\n",
    "    ax22.set_ylabel('Weight')\n",
    "    ax22.set_xlabel('time')\n",
    "\n",
    "    plt.show()\n",
    "\n",
    "def activemodel(initW, thres1, thres2):\n",
    "    tone2pyr0.initW = initW\n",
    "    tone2pyr0.threshold1 = thres1\n",
    "    tone2pyr0.threshold2 = thres2\n",
    "    \n",
    "    h.run()\n",
    "    plt.close('all')\n",
    "    plot_variables()\n",
    "\n",
    "initW = 1\n",
    "thres1 = 0.35\n",
    "thres2 = 0.4\n",
    "\n",
    "w_reset = widgets.Button(description='Reset',icon='history',button_style='primary')\n",
    "w_initW = widgets.IntSlider(value=1, min=0, max=10, step=1)\n",
    "w_thres1 = widgets.FloatSlider(value=0.35, min=0.01, max=1, step=0.05)\n",
    "w_thres2 = widgets.FloatSlider(value=0.4, min=0.01, max=1, step=0.05)\n",
    "\n",
    "def reset_default(*args):\n",
    "    w_initW.value = initW\n",
    "    w_thres1.value = thres1\n",
    "    w_thres2.value = thres2\n",
    "w_reset.on_click(reset_default)\n",
    "\n",
    "\n",
    "labels = ['Tone Weight', 'threshold1', 'threshold2']\n",
    "Labels = [Label(L) for L in labels]\n",
    "ui = VBox([ HBox([w_reset]), HBox([Labels[0],w_initW]), HBox([Labels[1], w_thres1, Labels[2],w_thres2])])\n",
    "out = interactive_output(activemodel, {'initW':w_initW, 'thres1': w_thres1, 'thres2': w_thres2 })\n",
    "\n",
    "display(ui,out)\n",
    "\n",
    "\n"
   ]
  },
  {
   "cell_type": "code",
   "execution_count": null,
   "id": "b0d7f27a",
   "metadata": {},
   "outputs": [],
   "source": []
  },
  {
   "cell_type": "code",
   "execution_count": null,
   "id": "cfa3efde",
   "metadata": {},
   "outputs": [],
   "source": []
  }
 ],
 "metadata": {
  "kernelspec": {
   "display_name": "Python 3 (ipykernel)",
   "language": "python",
   "name": "python3"
  },
  "language_info": {
   "codemirror_mode": {
    "name": "ipython",
    "version": 3
   },
   "file_extension": ".py",
   "mimetype": "text/x-python",
   "name": "python",
   "nbconvert_exporter": "python",
   "pygments_lexer": "ipython3",
   "version": "3.9.7"
  }
 },
 "nbformat": 4,
 "nbformat_minor": 5
}
